{
 "cells": [
  {
   "cell_type": "code",
   "execution_count": 20,
   "metadata": {},
   "outputs": [
    {
     "name": "stdout",
     "output_type": "stream",
     "text": [
      "['Bring', 'your', 'dog to', 'the', 'office']\n",
      "['The rain', 'in Spain', 'stays', 'mainly', 'in the', 'plain']\n"
     ]
    }
   ],
   "source": [
    "\"\"\"\n",
    "This function takes in a string (a sentence) that contains several words\n",
    "and an integer n. \n",
    "It outputs an array of strings, where each string contains as many words\n",
    "as possible but is never longer than n characters.\n",
    "The strings in the output array, when combined, should contain the original sentence.\n",
    "Words may not be split, but you may assume that no single word is too long.\n",
    "\n",
    "\n",
    "Example1: telegram(\"Bring your dog to the office\", 6) =>\n",
    "[\"Bring\", \"your\", \"dog to\", \"the\", \"office\"]\n",
    "\n",
    "Example2: telegram(\"The rain in Spain stays mainly in the plain\", 8) = >\n",
    "[\"The rain\", \"in Spain\", \"stays\", \"mainly\", \"in the\", \"plain\"]\n",
    "\n",
    "\n",
    "For simplicity let's assume that the input string contains only one sentence\n",
    "without any special characters (periods, commas etc).\n",
    "\"\"\"\n",
    "\n",
    "def telegram(input_string, max_length):\n",
    "    result = []\n",
    "    words = input_string.split(\" \")\n",
    "    \n",
    "    i = 0\n",
    "    current_word = ''\n",
    "    for word in words:\n",
    "        if len(current_word) + len(word) >= max_length:\n",
    "            result.append(current_word)\n",
    "            current_word = word\n",
    "        else:\n",
    "            if len(current_word) == 0:\n",
    "                current_word = word\n",
    "            else:\n",
    "                current_word += \" \" + word\n",
    "    \n",
    "    result.append(current_word)\n",
    "    \n",
    "    print(result)\n",
    "    return result\n",
    "\n",
    "\n",
    "expected_values = [\"Bring\", \"your\", \"dog to\", \"the\", \"office\"] \n",
    "assert expected_values == telegram(\"Bring your dog to the office\", 6)\n",
    "\n",
    "expected_values = [\"The rain\", \"in Spain\", \"stays\", \"mainly\", \"in the\", \"plain\"]\n",
    "assert expected_values == telegram(\"The rain in Spain stays mainly in the plain\", 8)\n"
   ]
  },
  {
   "cell_type": "code",
   "execution_count": 27,
   "metadata": {},
   "outputs": [],
   "source": [
    "\"\"\"\n",
    "/*\n",
    "Ok guys, this one is called balancePoint.\n",
    "balancePoint takes an array as its argument and returns an array of \n",
    "indexes at which the sub-arrays on either side of the index are balanced \n",
    "(if you sum the sides). Otherwise, it returns null.\n",
    "ex//\n",
    "  expect(balancePoint([1,2,3,2,1])).to.eql([2]);\n",
    "  expect(balancePoint([1,-2,0,3,2,-3])).to.eql([0, 3]); \n",
    "  expect(balancePoint([1,-1,1,0,1,-1,1])).to.eql([3]);\n",
    "  expect(balancePoint([1,2,4])).to.equal(null);\n",
    "  expect(balancePoint([0,0,0])).to.eql([0,1,2]);\n",
    "  note: eql in chai is a shortcut for deep equality.\n",
    " */\n",
    "\"\"\"\n",
    "\n",
    "def balance_point(arr):\n",
    "    result = []\n",
    "    for i,_ in enumerate(arr):\n",
    "        if sum(arr[0:i]) == sum(arr[i+1:]):\n",
    "            result.append(i)\n",
    "    return result if len(result) > 0 else None\n",
    "    \n",
    "    \n",
    "assert [2] == balance_point([1, 2, 3, 2, 1])   \n",
    "assert [0, 3] == balance_point([1, -2, 0, 3, 2, -3])   \n",
    "assert [3] == balance_point([1,-1,1,0,1,-1,1])\n",
    "assert balance_point([1, 2, 4]) is None\n",
    "assert [0, 1, 2] == balance_point([0, 0, 0]) "
   ]
  },
  {
   "cell_type": "markdown",
   "metadata": {},
   "source": [
    "# Binary Sum Program"
   ]
  },
  {
   "cell_type": "code",
   "execution_count": 30,
   "metadata": {},
   "outputs": [],
   "source": [
    "def binary_sum(arr1, arr2):\n",
    "    result = []\n",
    "    n = len(arr1)\n",
    "    carry = 0\n",
    "    for i in range(0, n):\n",
    "        temp_sum = arr1[n-1-i] + arr2[n-1-i] + carry\n",
    "        carry = int(temp_sum / 2)\n",
    "        result.append(int(temp_sum % 2))\n",
    "    \n",
    "    result.append(carry)\n",
    "    result.reverse()\n",
    "    return result\n",
    "        \n",
    "assert [1,1,0] == binary_sum([1, 1], [1, 1])\n",
    "assert [0,1,1] == binary_sum([1, 0], [0, 1])"
   ]
  },
  {
   "cell_type": "code",
   "execution_count": null,
   "metadata": {},
   "outputs": [],
   "source": []
  }
 ],
 "metadata": {
  "kernelspec": {
   "display_name": "Python 3",
   "language": "python",
   "name": "python3"
  },
  "language_info": {
   "codemirror_mode": {
    "name": "ipython",
    "version": 3
   },
   "file_extension": ".py",
   "mimetype": "text/x-python",
   "name": "python",
   "nbconvert_exporter": "python",
   "pygments_lexer": "ipython3",
   "version": "3.7.1"
  }
 },
 "nbformat": 4,
 "nbformat_minor": 2
}
